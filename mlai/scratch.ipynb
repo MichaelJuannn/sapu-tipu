{
 "cells": [
  {
   "cell_type": "code",
   "execution_count": 1,
   "metadata": {},
   "outputs": [
    {
     "name": "stdout",
     "output_type": "stream",
     "text": [
      "WARNING:tensorflow:From c:\\Users\\admin\\AppData\\Local\\Programs\\Python\\Python311\\Lib\\site-packages\\keras\\src\\losses.py:2976: The name tf.losses.sparse_softmax_cross_entropy is deprecated. Please use tf.compat.v1.losses.sparse_softmax_cross_entropy instead.\n",
      "\n"
     ]
    }
   ],
   "source": [
    "import tensorflow as tf\n",
    "import pandas as pd\n",
    "import keras\n",
    "from sklearn.model_selection import train_test_split\n",
    "from keras.preprocessing.text import Tokenizer\n",
    "from keras.preprocessing.sequence import pad_sequences"
   ]
  },
  {
   "cell_type": "code",
   "execution_count": 31,
   "metadata": {},
   "outputs": [],
   "source": [
    "df = pd.read_csv('./assets/dataset_sms_spam_v1.csv')\n",
    "x = df['Teks'].str.replace('[^a-zA-Z\\\\d\\\\s:]', '', regex=True).to_list()\n",
    "y = keras.utils.to_categorical(df['label'])"
   ]
  },
  {
   "cell_type": "code",
   "execution_count": 32,
   "metadata": {},
   "outputs": [],
   "source": [
    "train_x, val_x, train_y, val_y = train_test_split(x,y,train_size=0.9,shuffle=True)"
   ]
  },
  {
   "cell_type": "code",
   "execution_count": 33,
   "metadata": {},
   "outputs": [],
   "source": [
    "vocab_size = 1000\n",
    "embedding_dim = 16\n",
    "max_length = 48\n",
    "trunc_type = 'post'\n",
    "padding_type = 'post'\n",
    "oov_tok = \"<OOV>\""
   ]
  },
  {
   "cell_type": "code",
   "execution_count": 34,
   "metadata": {},
   "outputs": [],
   "source": [
    "tokenizer = Tokenizer(num_words=vocab_size, oov_token=oov_tok)\n",
    "tokenizer.fit_on_texts(train_x)\n",
    "sequences = tokenizer.texts_to_sequences(train_x)\n",
    "padded = pad_sequences(sequences, maxlen=max_length, truncating=trunc_type,padding=padding_type)\n",
    "val_sequences = tokenizer.texts_to_sequences(val_x)\n",
    "padded_val = pad_sequences(val_sequences, maxlen=max_length, truncating=trunc_type,padding=padding_type)"
   ]
  },
  {
   "cell_type": "code",
   "execution_count": 35,
   "metadata": {},
   "outputs": [
    {
     "name": "stdout",
     "output_type": "stream",
     "text": [
      "(1028, 48)\n",
      "(1028, 3)\n"
     ]
    }
   ],
   "source": [
    "print(padded.shape)\n",
    "print(train_y.shape)"
   ]
  },
  {
   "cell_type": "code",
   "execution_count": 41,
   "metadata": {},
   "outputs": [],
   "source": [
    "model = keras.Sequential([\n",
    "    keras.layers.Embedding(input_dim=vocab_size, output_dim=embedding_dim,),\n",
    "    keras.layers.GlobalAveragePooling1D(),\n",
    "    keras.layers.Dense(64,activation='relu'),\n",
    "    keras.layers.Dense(3,activation='softmax')\n",
    "])\n",
    "\n",
    "model.compile(optimizer='adam', loss='categorical_crossentropy', metrics=['accuracy'])"
   ]
  },
  {
   "cell_type": "code",
   "execution_count": 43,
   "metadata": {},
   "outputs": [
    {
     "name": "stdout",
     "output_type": "stream",
     "text": [
      "Epoch 1/50\n",
      "33/33 [==============================] - 1s 23ms/step - loss: 0.2216 - accuracy: 0.9329 - val_loss: 0.3041 - val_accuracy: 0.9043\n",
      "Epoch 2/50\n",
      "33/33 [==============================] - 0s 5ms/step - loss: 0.1882 - accuracy: 0.9484 - val_loss: 0.2715 - val_accuracy: 0.9130\n",
      "Epoch 3/50\n",
      "33/33 [==============================] - 0s 5ms/step - loss: 0.1606 - accuracy: 0.9562 - val_loss: 0.2548 - val_accuracy: 0.9130\n",
      "Epoch 4/50\n",
      "33/33 [==============================] - 0s 5ms/step - loss: 0.1393 - accuracy: 0.9591 - val_loss: 0.2419 - val_accuracy: 0.9217\n",
      "Epoch 5/50\n",
      "33/33 [==============================] - 0s 5ms/step - loss: 0.1242 - accuracy: 0.9650 - val_loss: 0.2302 - val_accuracy: 0.9217\n",
      "Epoch 6/50\n",
      "33/33 [==============================] - 0s 5ms/step - loss: 0.1096 - accuracy: 0.9708 - val_loss: 0.2425 - val_accuracy: 0.9130\n",
      "Epoch 7/50\n",
      "33/33 [==============================] - 0s 5ms/step - loss: 0.0979 - accuracy: 0.9757 - val_loss: 0.2326 - val_accuracy: 0.9130\n",
      "Epoch 8/50\n",
      "33/33 [==============================] - 0s 5ms/step - loss: 0.0885 - accuracy: 0.9825 - val_loss: 0.2292 - val_accuracy: 0.9304\n",
      "Epoch 9/50\n",
      "33/33 [==============================] - 0s 5ms/step - loss: 0.0787 - accuracy: 0.9844 - val_loss: 0.2370 - val_accuracy: 0.9304\n",
      "Epoch 10/50\n",
      "33/33 [==============================] - 0s 5ms/step - loss: 0.0708 - accuracy: 0.9864 - val_loss: 0.2247 - val_accuracy: 0.9217\n",
      "Epoch 11/50\n",
      "33/33 [==============================] - 0s 7ms/step - loss: 0.0645 - accuracy: 0.9864 - val_loss: 0.2366 - val_accuracy: 0.9217\n",
      "Epoch 12/50\n",
      "33/33 [==============================] - 0s 5ms/step - loss: 0.0586 - accuracy: 0.9903 - val_loss: 0.2286 - val_accuracy: 0.9217\n",
      "Epoch 13/50\n",
      "33/33 [==============================] - 0s 5ms/step - loss: 0.0536 - accuracy: 0.9893 - val_loss: 0.2348 - val_accuracy: 0.9217\n",
      "Epoch 14/50\n",
      "33/33 [==============================] - 0s 5ms/step - loss: 0.0492 - accuracy: 0.9903 - val_loss: 0.2420 - val_accuracy: 0.9130\n",
      "Epoch 15/50\n",
      "33/33 [==============================] - 0s 6ms/step - loss: 0.0455 - accuracy: 0.9912 - val_loss: 0.2392 - val_accuracy: 0.9217\n",
      "Epoch 16/50\n",
      "33/33 [==============================] - 0s 6ms/step - loss: 0.0416 - accuracy: 0.9922 - val_loss: 0.2342 - val_accuracy: 0.9217\n",
      "Epoch 17/50\n",
      "33/33 [==============================] - 0s 5ms/step - loss: 0.0378 - accuracy: 0.9932 - val_loss: 0.2459 - val_accuracy: 0.9217\n",
      "Epoch 18/50\n",
      "33/33 [==============================] - 0s 6ms/step - loss: 0.0351 - accuracy: 0.9942 - val_loss: 0.2316 - val_accuracy: 0.9217\n",
      "Epoch 19/50\n",
      "33/33 [==============================] - 0s 7ms/step - loss: 0.0329 - accuracy: 0.9932 - val_loss: 0.2384 - val_accuracy: 0.9217\n",
      "Epoch 20/50\n",
      "33/33 [==============================] - 0s 5ms/step - loss: 0.0302 - accuracy: 0.9961 - val_loss: 0.2468 - val_accuracy: 0.9217\n",
      "Epoch 21/50\n",
      "33/33 [==============================] - 0s 6ms/step - loss: 0.0278 - accuracy: 0.9961 - val_loss: 0.2518 - val_accuracy: 0.9130\n",
      "Epoch 22/50\n",
      "33/33 [==============================] - 0s 5ms/step - loss: 0.0260 - accuracy: 0.9961 - val_loss: 0.2542 - val_accuracy: 0.9130\n",
      "Epoch 23/50\n",
      "33/33 [==============================] - 0s 6ms/step - loss: 0.0242 - accuracy: 0.9961 - val_loss: 0.2585 - val_accuracy: 0.9130\n",
      "Epoch 24/50\n",
      "33/33 [==============================] - 0s 6ms/step - loss: 0.0222 - accuracy: 0.9961 - val_loss: 0.2551 - val_accuracy: 0.9217\n",
      "Epoch 25/50\n",
      "33/33 [==============================] - 0s 6ms/step - loss: 0.0211 - accuracy: 0.9971 - val_loss: 0.2728 - val_accuracy: 0.9217\n",
      "Epoch 26/50\n",
      "33/33 [==============================] - 0s 8ms/step - loss: 0.0192 - accuracy: 0.9981 - val_loss: 0.2605 - val_accuracy: 0.9130\n",
      "Epoch 27/50\n",
      "33/33 [==============================] - 0s 4ms/step - loss: 0.0179 - accuracy: 0.9981 - val_loss: 0.2694 - val_accuracy: 0.9217\n",
      "Epoch 28/50\n",
      "33/33 [==============================] - 0s 5ms/step - loss: 0.0171 - accuracy: 0.9981 - val_loss: 0.2763 - val_accuracy: 0.9130\n",
      "Epoch 29/50\n",
      "33/33 [==============================] - 0s 6ms/step - loss: 0.0157 - accuracy: 0.9990 - val_loss: 0.2839 - val_accuracy: 0.9130\n",
      "Epoch 30/50\n",
      "33/33 [==============================] - 0s 5ms/step - loss: 0.0149 - accuracy: 0.9990 - val_loss: 0.2934 - val_accuracy: 0.9217\n",
      "Epoch 31/50\n",
      "33/33 [==============================] - 0s 5ms/step - loss: 0.0138 - accuracy: 0.9990 - val_loss: 0.2850 - val_accuracy: 0.9130\n",
      "Epoch 32/50\n",
      "33/33 [==============================] - 0s 5ms/step - loss: 0.0131 - accuracy: 0.9990 - val_loss: 0.2913 - val_accuracy: 0.9130\n",
      "Epoch 33/50\n",
      "33/33 [==============================] - 0s 5ms/step - loss: 0.0122 - accuracy: 0.9990 - val_loss: 0.2977 - val_accuracy: 0.9130\n",
      "Epoch 34/50\n",
      "33/33 [==============================] - 0s 5ms/step - loss: 0.0117 - accuracy: 0.9990 - val_loss: 0.3102 - val_accuracy: 0.9130\n",
      "Epoch 35/50\n",
      "33/33 [==============================] - 0s 5ms/step - loss: 0.0108 - accuracy: 0.9990 - val_loss: 0.3020 - val_accuracy: 0.9217\n",
      "Epoch 36/50\n",
      "33/33 [==============================] - 0s 5ms/step - loss: 0.0103 - accuracy: 0.9990 - val_loss: 0.3149 - val_accuracy: 0.9217\n",
      "Epoch 37/50\n",
      "33/33 [==============================] - 0s 5ms/step - loss: 0.0098 - accuracy: 0.9990 - val_loss: 0.3143 - val_accuracy: 0.9217\n",
      "Epoch 38/50\n",
      "33/33 [==============================] - 0s 5ms/step - loss: 0.0091 - accuracy: 0.9990 - val_loss: 0.3232 - val_accuracy: 0.9217\n",
      "Epoch 39/50\n",
      "33/33 [==============================] - 0s 5ms/step - loss: 0.0087 - accuracy: 0.9990 - val_loss: 0.3270 - val_accuracy: 0.9217\n",
      "Epoch 40/50\n",
      "33/33 [==============================] - 0s 5ms/step - loss: 0.0083 - accuracy: 0.9990 - val_loss: 0.3225 - val_accuracy: 0.9217\n",
      "Epoch 41/50\n",
      "33/33 [==============================] - 0s 5ms/step - loss: 0.0079 - accuracy: 0.9990 - val_loss: 0.3346 - val_accuracy: 0.9217\n",
      "Epoch 42/50\n",
      "33/33 [==============================] - 0s 5ms/step - loss: 0.0075 - accuracy: 0.9990 - val_loss: 0.3402 - val_accuracy: 0.9217\n",
      "Epoch 43/50\n",
      "33/33 [==============================] - 0s 5ms/step - loss: 0.0071 - accuracy: 0.9990 - val_loss: 0.3372 - val_accuracy: 0.9217\n",
      "Epoch 44/50\n",
      "33/33 [==============================] - 0s 5ms/step - loss: 0.0067 - accuracy: 0.9990 - val_loss: 0.3547 - val_accuracy: 0.9217\n",
      "Epoch 45/50\n",
      "33/33 [==============================] - 0s 5ms/step - loss: 0.0063 - accuracy: 0.9990 - val_loss: 0.3455 - val_accuracy: 0.9217\n",
      "Epoch 46/50\n",
      "33/33 [==============================] - 0s 5ms/step - loss: 0.0063 - accuracy: 0.9990 - val_loss: 0.3558 - val_accuracy: 0.9217\n",
      "Epoch 47/50\n",
      "33/33 [==============================] - 0s 5ms/step - loss: 0.0059 - accuracy: 0.9990 - val_loss: 0.3535 - val_accuracy: 0.9217\n",
      "Epoch 48/50\n",
      "33/33 [==============================] - 0s 5ms/step - loss: 0.0055 - accuracy: 0.9990 - val_loss: 0.3650 - val_accuracy: 0.9217\n",
      "Epoch 49/50\n",
      "33/33 [==============================] - 0s 5ms/step - loss: 0.0053 - accuracy: 0.9990 - val_loss: 0.3679 - val_accuracy: 0.9217\n",
      "Epoch 50/50\n",
      "33/33 [==============================] - 0s 5ms/step - loss: 0.0050 - accuracy: 0.9990 - val_loss: 0.3732 - val_accuracy: 0.9217\n"
     ]
    },
    {
     "data": {
      "text/plain": [
       "<keras.src.callbacks.History at 0x1b66ac37e10>"
      ]
     },
     "execution_count": 43,
     "metadata": {},
     "output_type": "execute_result"
    }
   ],
   "source": [
    "model.fit(padded,train_y, epochs=50, validation_data=(padded_val, val_y))"
   ]
  },
  {
   "cell_type": "code",
   "execution_count": 53,
   "metadata": {},
   "outputs": [],
   "source": [
    "def preproc(input,tokenizer):\n",
    "    sequences = tokenizer.texts_to_sequences([input])\n",
    "    padded_input = pad_sequences(sequences, maxlen=max_length, truncating=trunc_type,padding=padding_type)\n",
    "    return padded_input"
   ]
  },
  {
   "cell_type": "code",
   "execution_count": 60,
   "metadata": {},
   "outputs": [
    {
     "name": "stdout",
     "output_type": "stream",
     "text": [
      "1/1 [==============================] - 0s 48ms/step\n"
     ]
    },
    {
     "data": {
      "text/plain": [
       "array([[0.0100674 , 0.98510575, 0.00482681]], dtype=float32)"
      ]
     },
     "execution_count": 60,
     "metadata": {},
     "output_type": "execute_result"
    }
   ],
   "source": [
    "test = \"Sebagai nasabah Yth rek anda dinyatakan resmi mendapat hadiah dari berkah BRIpoin dan kode cek anda\"\n",
    "testtest = preproc(test, tokenizer)\n",
    "model.predict(testtest)"
   ]
  }
 ],
 "metadata": {
  "kernelspec": {
   "display_name": "Python 3",
   "language": "python",
   "name": "python3"
  },
  "language_info": {
   "codemirror_mode": {
    "name": "ipython",
    "version": 3
   },
   "file_extension": ".py",
   "mimetype": "text/x-python",
   "name": "python",
   "nbconvert_exporter": "python",
   "pygments_lexer": "ipython3",
   "version": "3.11.1"
  }
 },
 "nbformat": 4,
 "nbformat_minor": 2
}
